{
  "nbformat": 4,
  "nbformat_minor": 0,
  "metadata": {
    "colab": {
      "name": "LSTM-NLP-clasificador-novelas-español.ipynb",
      "provenance": [],
      "collapsed_sections": [],
      "include_colab_link": true
    },
    "kernelspec": {
      "name": "python3",
      "display_name": "Python 3"
    },
    "language_info": {
      "name": "python"
    }
  },
  "cells": [
    {
      "cell_type": "markdown",
      "metadata": {
        "id": "view-in-github",
        "colab_type": "text"
      },
      "source": [
        "<a href=\"https://colab.research.google.com/github/hormigo69/nlp-0-100/blob/main/LSTM_NLP_clasificador_novelas_espa%C3%B1ol.ipynb\" target=\"_parent\"><img src=\"https://colab.research.google.com/assets/colab-badge.svg\" alt=\"Open In Colab\"/></a>"
      ]
    },
    {
      "cell_type": "markdown",
      "metadata": {
        "id": "pVzQ1KMCLs5_"
      },
      "source": [
        "# Clasificación de texto usando LSTMs con TensorFlow 2.0"
      ]
    },
    {
      "cell_type": "markdown",
      "metadata": {
        "id": "mypT6qjZa1b8"
      },
      "source": [
        "Vamos a crear una Red Neuronal Recurrente (BiLSTM) capaz de clasificar si una secuencia de una novela pertenece a Benito Pérez Galdós o Emilia Pardo Bazán.\n",
        " - Idea y preparación del dataset de [Javier de La Rosa](https://twitter.com/versae)"
      ]
    },
    {
      "cell_type": "markdown",
      "metadata": {
        "id": "Pe55OPlQMJj6"
      },
      "source": [
        "## Importamos las librerías requeridas"
      ]
    },
    {
      "cell_type": "code",
      "metadata": {
        "colab": {
          "base_uri": "https://localhost:8080/"
        },
        "id": "i_cQyHTKXT7n",
        "outputId": "d4d4f211-8915-4093-f6a6-d0124ac54fca"
      },
      "source": [
        "import csv\n",
        "import tensorflow as tf\n",
        "import numpy as np\n",
        "import pandas as pd\n",
        "import matplotlib.pyplot as plt\n",
        "from tensorflow.keras.preprocessing.text import Tokenizer\n",
        "from tensorflow.keras.preprocessing.sequence import pad_sequences\n",
        "from tqdm import tqdm\n",
        "import requests\n",
        "print(tf.__version__)"
      ],
      "execution_count": 1,
      "outputs": [
        {
          "output_type": "stream",
          "text": [
            "2.5.0\n"
          ],
          "name": "stdout"
        }
      ]
    },
    {
      "cell_type": "markdown",
      "metadata": {
        "id": "ksxRTxvFL3RV"
      },
      "source": [
        "## Descarga del dataset"
      ]
    },
    {
      "cell_type": "markdown",
      "metadata": {
        "id": "Q7tbGXHJbYVh"
      },
      "source": [
        "Descargaremos 3 novelas por autor"
      ]
    },
    {
      "cell_type": "code",
      "metadata": {
        "colab": {
          "base_uri": "https://localhost:8080/"
        },
        "id": "ygmo15fbdP1o",
        "outputId": "20ce8377-8dd3-4af2-894b-75e45c56f5cb"
      },
      "source": [
        "URLS = [\n",
        "    (\"galdos\", \"http://www.gutenberg.org/cache/epub/52392/pg52392.txt\"),  # Miau\n",
        "    (\"galdos\", \"http://www.gutenberg.org/cache/epub/15725/pg15725.txt\"),  # Doña Perfecta\n",
        "    (\"galdos\", \"http://www.gutenberg.org/cache/epub/17013/pg17013.txt\"),  # Fortunata y Jacinta\n",
        "    (\"bazan\", \"https://www.gutenberg.org/files/65632/65632-0.txt\"),  # La prueba\n",
        "    (\"bazan\", \"https://www.gutenberg.org/files/58059/58059-0.txt\"),  # La Madre Naturaleza\n",
        "    (\"bazan\", \"https://www.gutenberg.org/cache/epub/17491/pg17491.txt\"),  # La Tribuna\n",
        "]\n",
        "\n",
        "galdos = \"\"\n",
        "bazan = \"\"\n",
        "for author, url in tqdm(URLS):\n",
        "    work_text = requests.get(url).text\n",
        "    start_mark = \"START OF \"\n",
        "    end_mark = \"END OF \"\n",
        "    work_text = work_text[work_text.index(start_mark):work_text.index(end_mark)]\n",
        "    if author == \"galdos\":\n",
        "        galdos += \"\\n\" + work_text\n",
        "    else:\n",
        "        bazan += \"\\n\" + work_text"
      ],
      "execution_count": 2,
      "outputs": [
        {
          "output_type": "stream",
          "text": [
            "100%|██████████| 6/6 [00:01<00:00,  4.55it/s]\n"
          ],
          "name": "stderr"
        }
      ]
    },
    {
      "cell_type": "markdown",
      "metadata": {
        "id": "MYHZWOD1W6ck"
      },
      "source": [
        "Vamos a dividir las novelas en secuencias de una longitude de 250 palabras. Podemos probar con una longitud superir e inferior. Al fin y al cabo es un parámetro a tener en cuenta cuando se define una RNN"
      ]
    },
    {
      "cell_type": "code",
      "metadata": {
        "id": "mXX73jpWoHB2"
      },
      "source": [
        "n = 250\n",
        "\n",
        "galdos_splits = galdos.split()\n",
        "galdos_chunks = [galdos_splits[i:i + n] for i in range(0, len(galdos_splits), n)]\n",
        "\n",
        "bazan_splits = bazan.split()\n",
        "bazan_chunks = [bazan_splits[i:i + n] for i in range(0, len(bazan_splits), n)]"
      ],
      "execution_count": 3,
      "outputs": []
    },
    {
      "cell_type": "markdown",
      "metadata": {
        "id": "5Fg1R_RAXCAm"
      },
      "source": [
        "Ahora construiremos una tabla (`DataFrame`) con los textos de cada extracto y una segunda columna indicando si pertenecen la obra de Galdós con un 1 o de Pardo Bazán con un 0."
      ]
    },
    {
      "cell_type": "code",
      "metadata": {
        "colab": {
          "base_uri": "https://localhost:8080/"
        },
        "id": "N19hpkoZoLWV",
        "outputId": "658755fd-5c11-47b6-8486-172ec3c4d9b8"
      },
      "source": [
        "galdos_len = len(galdos_chunks)\n",
        "bazan_len = len(bazan_chunks)\n",
        "galdos_len, bazan_len "
      ],
      "execution_count": 4,
      "outputs": [
        {
          "output_type": "execute_result",
          "data": {
            "text/plain": [
              "(2426, 868)"
            ]
          },
          "metadata": {
            "tags": []
          },
          "execution_count": 4
        }
      ]
    },
    {
      "cell_type": "code",
      "metadata": {
        "id": "ia-Ju3mtXJZ2"
      },
      "source": [
        "galdos_df = pd.DataFrame(\n",
        "    [\" \".join(chunk) for chunk in galdos_chunks],\n",
        "    columns=[\"text\"]\n",
        ").assign(labels=1).sample(frac=1).reset_index(drop=True)\n",
        "bazan_df = pd.DataFrame(\n",
        "    [\" \".join(chunk) for chunk in bazan_chunks],\n",
        "    columns=[\"text\"]\n",
        ").assign(labels=0).sample(frac=1).reset_index(drop=True)"
      ],
      "execution_count": 5,
      "outputs": []
    },
    {
      "cell_type": "code",
      "metadata": {
        "colab": {
          "base_uri": "https://localhost:8080/",
          "height": 419
        },
        "id": "xCzA4ACFcTcp",
        "outputId": "70a78e79-4619-49f0-fef8-62f2b745cb13"
      },
      "source": [
        "galdos_df"
      ],
      "execution_count": 6,
      "outputs": [
        {
          "output_type": "execute_result",
          "data": {
            "text/html": [
              "<div>\n",
              "<style scoped>\n",
              "    .dataframe tbody tr th:only-of-type {\n",
              "        vertical-align: middle;\n",
              "    }\n",
              "\n",
              "    .dataframe tbody tr th {\n",
              "        vertical-align: top;\n",
              "    }\n",
              "\n",
              "    .dataframe thead th {\n",
              "        text-align: right;\n",
              "    }\n",
              "</style>\n",
              "<table border=\"1\" class=\"dataframe\">\n",
              "  <thead>\n",
              "    <tr style=\"text-align: right;\">\n",
              "      <th></th>\n",
              "      <th>text</th>\n",
              "      <th>labels</th>\n",
              "    </tr>\n",
              "  </thead>\n",
              "  <tbody>\n",
              "    <tr>\n",
              "      <th>0</th>\n",
              "      <td>base. =fúnebre= funereal. =funesto= baleful. =...</td>\n",
              "      <td>1</td>\n",
              "    </tr>\n",
              "    <tr>\n",
              "      <th>1</th>\n",
              "      <td>D. Basilio Andrés de la Caña, que lo menos era...</td>\n",
              "      <td>1</td>\n",
              "    </tr>\n",
              "    <tr>\n",
              "      <th>2</th>\n",
              "      <td>preguntó después. --No parece por ninguna part...</td>\n",
              "      <td>1</td>\n",
              "    </tr>\n",
              "    <tr>\n",
              "      <th>3</th>\n",
              "      <td>pensamiento. Resido en las estrellas. Pongan a...</td>\n",
              "      <td>1</td>\n",
              "    </tr>\n",
              "    <tr>\n",
              "      <th>4</th>\n",
              "      <td>que se presente. No se ven hombres así todos l...</td>\n",
              "      <td>1</td>\n",
              "    </tr>\n",
              "    <tr>\n",
              "      <th>...</th>\n",
              "      <td>...</td>\n",
              "      <td>...</td>\n",
              "    </tr>\n",
              "    <tr>\n",
              "      <th>2421</th>\n",
              "      <td>one who is left; remainder. =resto= _m_ remain...</td>\n",
              "      <td>1</td>\n",
              "    </tr>\n",
              "    <tr>\n",
              "      <th>2422</th>\n",
              "      <td>entre personas de vida poco regular. ¡Si suced...</td>\n",
              "      <td>1</td>\n",
              "    </tr>\n",
              "    <tr>\n",
              "      <th>2423</th>\n",
              "      <td>en que las recogidas se alzaban sobre las punt...</td>\n",
              "      <td>1</td>\n",
              "    </tr>\n",
              "    <tr>\n",
              "      <th>2424</th>\n",
              "      <td>de que es hijo de las tres, y tendrá tres madr...</td>\n",
              "      <td>1</td>\n",
              "    </tr>\n",
              "    <tr>\n",
              "      <th>2425</th>\n",
              "      <td>el tren mixto número 65 le llevó, como se ha v...</td>\n",
              "      <td>1</td>\n",
              "    </tr>\n",
              "  </tbody>\n",
              "</table>\n",
              "<p>2426 rows × 2 columns</p>\n",
              "</div>"
            ],
            "text/plain": [
              "                                                   text  labels\n",
              "0     base. =fúnebre= funereal. =funesto= baleful. =...       1\n",
              "1     D. Basilio Andrés de la Caña, que lo menos era...       1\n",
              "2     preguntó después. --No parece por ninguna part...       1\n",
              "3     pensamiento. Resido en las estrellas. Pongan a...       1\n",
              "4     que se presente. No se ven hombres así todos l...       1\n",
              "...                                                 ...     ...\n",
              "2421  one who is left; remainder. =resto= _m_ remain...       1\n",
              "2422  entre personas de vida poco regular. ¡Si suced...       1\n",
              "2423  en que las recogidas se alzaban sobre las punt...       1\n",
              "2424  de que es hijo de las tres, y tendrá tres madr...       1\n",
              "2425  el tren mixto número 65 le llevó, como se ha v...       1\n",
              "\n",
              "[2426 rows x 2 columns]"
            ]
          },
          "metadata": {
            "tags": []
          },
          "execution_count": 6
        }
      ]
    },
    {
      "cell_type": "code",
      "metadata": {
        "colab": {
          "base_uri": "https://localhost:8080/",
          "height": 419
        },
        "id": "ZnF9lJV8cYFG",
        "outputId": "bd5d2c1d-533d-41b6-ed16-1df3ea27f2a9"
      },
      "source": [
        "bazan_df"
      ],
      "execution_count": 7,
      "outputs": [
        {
          "output_type": "execute_result",
          "data": {
            "text/html": [
              "<div>\n",
              "<style scoped>\n",
              "    .dataframe tbody tr th:only-of-type {\n",
              "        vertical-align: middle;\n",
              "    }\n",
              "\n",
              "    .dataframe tbody tr th {\n",
              "        vertical-align: top;\n",
              "    }\n",
              "\n",
              "    .dataframe thead th {\n",
              "        text-align: right;\n",
              "    }\n",
              "</style>\n",
              "<table border=\"1\" class=\"dataframe\">\n",
              "  <thead>\n",
              "    <tr style=\"text-align: right;\">\n",
              "      <th></th>\n",
              "      <th>text</th>\n",
              "      <th>labels</th>\n",
              "    </tr>\n",
              "  </thead>\n",
              "  <tbody>\n",
              "    <tr>\n",
              "      <th>0</th>\n",
              "      <td>esto --murmuró entre sí--. Y si no la echo me ...</td>\n",
              "      <td>0</td>\n",
              "    </tr>\n",
              "    <tr>\n",
              "      <th>1</th>\n",
              "      <td>docena de gallinas Ã¡ la sombra de un emparrad...</td>\n",
              "      <td>0</td>\n",
              "    </tr>\n",
              "    <tr>\n",
              "      <th>2</th>\n",
              "      <td>cómo se las compondría para presentársele siem...</td>\n",
              "      <td>0</td>\n",
              "    </tr>\n",
              "    <tr>\n",
              "      <th>3</th>\n",
              "      <td>un radical que aquel viejo apacible, semejante...</td>\n",
              "      <td>0</td>\n",
              "    </tr>\n",
              "    <tr>\n",
              "      <th>4</th>\n",
              "      <td>conoce mejor que nosotros lo que nos hace falt...</td>\n",
              "      <td>0</td>\n",
              "    </tr>\n",
              "    <tr>\n",
              "      <th>...</th>\n",
              "      <td>...</td>\n",
              "      <td>...</td>\n",
              "    </tr>\n",
              "    <tr>\n",
              "      <th>863</th>\n",
              "      <td>amigotes! Eran bien intencionados, eso sÃ­; pe...</td>\n",
              "      <td>0</td>\n",
              "    </tr>\n",
              "    <tr>\n",
              "      <th>864</th>\n",
              "      <td>sin ser oído; personas de voz escasa exclamaba...</td>\n",
              "      <td>0</td>\n",
              "    </tr>\n",
              "    <tr>\n",
              "      <th>865</th>\n",
              "      <td>en el suelo; y mandando enhoramala sus filosof...</td>\n",
              "      <td>0</td>\n",
              "    </tr>\n",
              "    <tr>\n",
              "      <th>866</th>\n",
              "      <td>entonces! Y luego... _lo de ahora_... la calen...</td>\n",
              "      <td>0</td>\n",
              "    </tr>\n",
              "    <tr>\n",
              "      <th>867</th>\n",
              "      <td>el mÃ©dico sacaba todo su repertorio. Mientras...</td>\n",
              "      <td>0</td>\n",
              "    </tr>\n",
              "  </tbody>\n",
              "</table>\n",
              "<p>868 rows × 2 columns</p>\n",
              "</div>"
            ],
            "text/plain": [
              "                                                  text  labels\n",
              "0    esto --murmuró entre sí--. Y si no la echo me ...       0\n",
              "1    docena de gallinas Ã¡ la sombra de un emparrad...       0\n",
              "2    cómo se las compondría para presentársele siem...       0\n",
              "3    un radical que aquel viejo apacible, semejante...       0\n",
              "4    conoce mejor que nosotros lo que nos hace falt...       0\n",
              "..                                                 ...     ...\n",
              "863  amigotes! Eran bien intencionados, eso sÃ­; pe...       0\n",
              "864  sin ser oído; personas de voz escasa exclamaba...       0\n",
              "865  en el suelo; y mandando enhoramala sus filosof...       0\n",
              "866  entonces! Y luego... _lo de ahora_... la calen...       0\n",
              "867  el mÃ©dico sacaba todo su repertorio. Mientras...       0\n",
              "\n",
              "[868 rows x 2 columns]"
            ]
          },
          "metadata": {
            "tags": []
          },
          "execution_count": 7
        }
      ]
    },
    {
      "cell_type": "markdown",
      "metadata": {
        "id": "rLeq3F2Nio45"
      },
      "source": [
        "## División de los datasets"
      ]
    },
    {
      "cell_type": "code",
      "metadata": {
        "colab": {
          "base_uri": "https://localhost:8080/",
          "height": 419
        },
        "id": "GMUyR7AWoPWo",
        "outputId": "908927f1-4f02-4c7a-c708-0c4d8d3402ed"
      },
      "source": [
        "train_df = pd.concat(\n",
        "    [galdos_df[:int(galdos_len*.2)], bazan_df[:int(bazan_len*.2)]],\n",
        "    ignore_index=True\n",
        ").sample(frac=1).reset_index(drop=True)\n",
        "train_df"
      ],
      "execution_count": 8,
      "outputs": [
        {
          "output_type": "execute_result",
          "data": {
            "text/html": [
              "<div>\n",
              "<style scoped>\n",
              "    .dataframe tbody tr th:only-of-type {\n",
              "        vertical-align: middle;\n",
              "    }\n",
              "\n",
              "    .dataframe tbody tr th {\n",
              "        vertical-align: top;\n",
              "    }\n",
              "\n",
              "    .dataframe thead th {\n",
              "        text-align: right;\n",
              "    }\n",
              "</style>\n",
              "<table border=\"1\" class=\"dataframe\">\n",
              "  <thead>\n",
              "    <tr style=\"text-align: right;\">\n",
              "      <th></th>\n",
              "      <th>text</th>\n",
              "      <th>labels</th>\n",
              "    </tr>\n",
              "  </thead>\n",
              "  <tbody>\n",
              "    <tr>\n",
              "      <th>0</th>\n",
              "      <td>hablarle y decirle algún amoroso atrevimiento....</td>\n",
              "      <td>1</td>\n",
              "    </tr>\n",
              "    <tr>\n",
              "      <th>1</th>\n",
              "      <td>y la aplastaría; para llevada en vilo entre va...</td>\n",
              "      <td>0</td>\n",
              "    </tr>\n",
              "    <tr>\n",
              "      <th>2</th>\n",
              "      <td>farmacéutico en tono muy misterioso: «¿Ha prep...</td>\n",
              "      <td>1</td>\n",
              "    </tr>\n",
              "    <tr>\n",
              "      <th>3</th>\n",
              "      <td>sÃ­, muy planchada y muy rizadita; y cuando pa...</td>\n",
              "      <td>0</td>\n",
              "    </tr>\n",
              "    <tr>\n",
              "      <th>4</th>\n",
              "      <td>disputaban, no se peleaban nunca; el muchacho ...</td>\n",
              "      <td>0</td>\n",
              "    </tr>\n",
              "    <tr>\n",
              "      <th>...</th>\n",
              "      <td>...</td>\n",
              "      <td>...</td>\n",
              "    </tr>\n",
              "    <tr>\n",
              "      <th>653</th>\n",
              "      <td>«Chica, no trabajes tanto, que te vas a cansar...</td>\n",
              "      <td>1</td>\n",
              "    </tr>\n",
              "    <tr>\n",
              "      <th>654</th>\n",
              "      <td>las horas de trabajo en la Fábrica. A cada pit...</td>\n",
              "      <td>0</td>\n",
              "    </tr>\n",
              "    <tr>\n",
              "      <th>655</th>\n",
              "      <td>que sentía. Indudablemente su natural rudo y a...</td>\n",
              "      <td>1</td>\n",
              "    </tr>\n",
              "    <tr>\n",
              "      <th>656</th>\n",
              "      <td>perfectos. El otro sentimiento procedía del fo...</td>\n",
              "      <td>1</td>\n",
              "    </tr>\n",
              "    <tr>\n",
              "      <th>657</th>\n",
              "      <td>algún día esas sanguijuelas, que nos chupan la...</td>\n",
              "      <td>0</td>\n",
              "    </tr>\n",
              "  </tbody>\n",
              "</table>\n",
              "<p>658 rows × 2 columns</p>\n",
              "</div>"
            ],
            "text/plain": [
              "                                                  text  labels\n",
              "0    hablarle y decirle algún amoroso atrevimiento....       1\n",
              "1    y la aplastaría; para llevada en vilo entre va...       0\n",
              "2    farmacéutico en tono muy misterioso: «¿Ha prep...       1\n",
              "3    sÃ­, muy planchada y muy rizadita; y cuando pa...       0\n",
              "4    disputaban, no se peleaban nunca; el muchacho ...       0\n",
              "..                                                 ...     ...\n",
              "653  «Chica, no trabajes tanto, que te vas a cansar...       1\n",
              "654  las horas de trabajo en la Fábrica. A cada pit...       0\n",
              "655  que sentía. Indudablemente su natural rudo y a...       1\n",
              "656  perfectos. El otro sentimiento procedía del fo...       1\n",
              "657  algún día esas sanguijuelas, que nos chupan la...       0\n",
              "\n",
              "[658 rows x 2 columns]"
            ]
          },
          "metadata": {
            "tags": []
          },
          "execution_count": 8
        }
      ]
    },
    {
      "cell_type": "code",
      "metadata": {
        "colab": {
          "base_uri": "https://localhost:8080/",
          "height": 419
        },
        "id": "RWvNR1kuXIve",
        "outputId": "23368e80-a9b8-40a5-9175-dbf568c9c32a"
      },
      "source": [
        "eval_df = pd.concat(\n",
        "    [galdos_df[int(galdos_len*.8):], bazan_df[int(bazan_len*.8):]],\n",
        "    ignore_index=True\n",
        ").sample(frac=1).reset_index(drop=True)\n",
        "eval_df"
      ],
      "execution_count": 9,
      "outputs": [
        {
          "output_type": "execute_result",
          "data": {
            "text/html": [
              "<div>\n",
              "<style scoped>\n",
              "    .dataframe tbody tr th:only-of-type {\n",
              "        vertical-align: middle;\n",
              "    }\n",
              "\n",
              "    .dataframe tbody tr th {\n",
              "        vertical-align: top;\n",
              "    }\n",
              "\n",
              "    .dataframe thead th {\n",
              "        text-align: right;\n",
              "    }\n",
              "</style>\n",
              "<table border=\"1\" class=\"dataframe\">\n",
              "  <thead>\n",
              "    <tr style=\"text-align: right;\">\n",
              "      <th></th>\n",
              "      <th>text</th>\n",
              "      <th>labels</th>\n",
              "    </tr>\n",
              "  </thead>\n",
              "  <tbody>\n",
              "    <tr>\n",
              "      <th>0</th>\n",
              "      <td>el pecho y en el vientre. Barbarita quiso pone...</td>\n",
              "      <td>1</td>\n",
              "    </tr>\n",
              "    <tr>\n",
              "      <th>1</th>\n",
              "      <td>Tendremos ministerio Palanca». ¡Pobre Emilio!....</td>\n",
              "      <td>1</td>\n",
              "    </tr>\n",
              "    <tr>\n",
              "      <th>2</th>\n",
              "      <td>versión dada al novio sobre el suceso del día....</td>\n",
              "      <td>1</td>\n",
              "    </tr>\n",
              "    <tr>\n",
              "      <th>3</th>\n",
              "      <td>la colocación de su esposo, fué abandonado el ...</td>\n",
              "      <td>1</td>\n",
              "    </tr>\n",
              "    <tr>\n",
              "      <th>4</th>\n",
              "      <td>la frente, Gabriel Pardo se paseaba indeciso, ...</td>\n",
              "      <td>0</td>\n",
              "    </tr>\n",
              "    <tr>\n",
              "      <th>...</th>\n",
              "      <td>...</td>\n",
              "      <td>...</td>\n",
              "    </tr>\n",
              "    <tr>\n",
              "      <th>655</th>\n",
              "      <td>pedazo de pan solo, á todas las riquezas del m...</td>\n",
              "      <td>1</td>\n",
              "    </tr>\n",
              "    <tr>\n",
              "      <th>656</th>\n",
              "      <td>y me figuré que irías en los coches de delante...</td>\n",
              "      <td>1</td>\n",
              "    </tr>\n",
              "    <tr>\n",
              "      <th>657</th>\n",
              "      <td>concertar planes--declaró el teniente con forz...</td>\n",
              "      <td>0</td>\n",
              "    </tr>\n",
              "    <tr>\n",
              "      <th>658</th>\n",
              "      <td>= pals, in cahoots. =complacencia= _f_ complac...</td>\n",
              "      <td>1</td>\n",
              "    </tr>\n",
              "    <tr>\n",
              "      <th>659</th>\n",
              "      <td>un lado espada y tahalí, cartera de viaje y ca...</td>\n",
              "      <td>1</td>\n",
              "    </tr>\n",
              "  </tbody>\n",
              "</table>\n",
              "<p>660 rows × 2 columns</p>\n",
              "</div>"
            ],
            "text/plain": [
              "                                                  text  labels\n",
              "0    el pecho y en el vientre. Barbarita quiso pone...       1\n",
              "1    Tendremos ministerio Palanca». ¡Pobre Emilio!....       1\n",
              "2    versión dada al novio sobre el suceso del día....       1\n",
              "3    la colocación de su esposo, fué abandonado el ...       1\n",
              "4    la frente, Gabriel Pardo se paseaba indeciso, ...       0\n",
              "..                                                 ...     ...\n",
              "655  pedazo de pan solo, á todas las riquezas del m...       1\n",
              "656  y me figuré que irías en los coches de delante...       1\n",
              "657  concertar planes--declaró el teniente con forz...       0\n",
              "658  = pals, in cahoots. =complacencia= _f_ complac...       1\n",
              "659  un lado espada y tahalí, cartera de viaje y ca...       1\n",
              "\n",
              "[660 rows x 2 columns]"
            ]
          },
          "metadata": {
            "tags": []
          },
          "execution_count": 9
        }
      ]
    },
    {
      "cell_type": "code",
      "metadata": {
        "colab": {
          "base_uri": "https://localhost:8080/"
        },
        "id": "G8v6IJ5achjB",
        "outputId": "3fa050c2-471e-4980-82ba-93e1ac8361d3"
      },
      "source": [
        "train_df['labels'].value_counts()"
      ],
      "execution_count": 10,
      "outputs": [
        {
          "output_type": "execute_result",
          "data": {
            "text/plain": [
              "1    485\n",
              "0    173\n",
              "Name: labels, dtype: int64"
            ]
          },
          "metadata": {
            "tags": []
          },
          "execution_count": 10
        }
      ]
    },
    {
      "cell_type": "code",
      "metadata": {
        "colab": {
          "base_uri": "https://localhost:8080/"
        },
        "id": "Ghwa3Ujscp3c",
        "outputId": "c04084c1-b1f4-4f05-c949-61091aa7a8f5"
      },
      "source": [
        "eval_df['labels'].value_counts()"
      ],
      "execution_count": 11,
      "outputs": [
        {
          "output_type": "execute_result",
          "data": {
            "text/plain": [
              "1    486\n",
              "0    174\n",
              "Name: labels, dtype: int64"
            ]
          },
          "metadata": {
            "tags": []
          },
          "execution_count": 11
        }
      ]
    },
    {
      "cell_type": "markdown",
      "metadata": {
        "id": "dXEhG1O_NDKg"
      },
      "source": [
        "## Definimos algunos parámetros de la red"
      ]
    },
    {
      "cell_type": "markdown",
      "metadata": {
        "id": "5nXDZMV0c-Ls"
      },
      "source": [
        " - vocab_size = cómo de largo queremos que sea nuestro vocabulario. Si es demasiado corto, el rendimiento de la red sería muy pobre pues habrían muchos tokens desconocidos. Si es demasiado grande, nuestra red tardará más en entrenar.\n",
        "\n",
        " - embedding_dim: Este parámetro nos dice cómo de grandes queremos que sean los vectores que representan cada palabra de nuestro vocabulario. Normalmente, cuanto más grandes sean, mayor 'calidad' en la representación de las mismas.\n",
        "\n",
        " - max_length: Debemos definir una longitud máxima de secuencia puesto que nuestra red espera que todas tenga la misma longitud. En nuestro caso, como partimos el dataset en secuencias de 250 palabras, usaremos ese valor.\n",
        "\n",
        " - trunc_type: si una secuencia es más larga de 250 palabras la cortamos por detrás (post).\n",
        "\n",
        "- padding_type = nos dice que en caso de que la secuencia se más corta de 250 tokens en qué parte de ésta se añade los tokens de padding (post = al final).\n",
        "\n",
        "- oov_tok = `<OOV>` da un valor a las palabras/tokens que estén fuera de esas 5000 como máximo que hemos definido para nuestro vocabulario.\n"
      ]
    },
    {
      "cell_type": "code",
      "metadata": {
        "id": "yeN5zad3djSj"
      },
      "source": [
        "vocab_size = 5000\n",
        "embedding_dim = 64\n",
        "max_length = 250\n",
        "trunc_type = 'post'\n",
        "padding_type = 'post'\n",
        "oov_tok = '<OOV>'"
      ],
      "execution_count": 12,
      "outputs": []
    },
    {
      "cell_type": "code",
      "metadata": {
        "colab": {
          "base_uri": "https://localhost:8080/"
        },
        "id": "SSipg3irNLoc",
        "outputId": "f78544a6-11e5-4b09-abd6-80d4523b0bc2"
      },
      "source": [
        "train_articles = train_df['text'].tolist()\n",
        "train_labels = train_df['labels'].tolist()\n",
        "\n",
        "validation_articles = eval_df['text'].tolist()\n",
        "validation_labels = eval_df['labels'].tolist()\n",
        "\n",
        "print(len(train_articles))\n",
        "print(len(train_labels))\n",
        "print(len(validation_articles))\n",
        "print(len(validation_labels))"
      ],
      "execution_count": 13,
      "outputs": [
        {
          "output_type": "stream",
          "text": [
            "658\n",
            "658\n",
            "660\n",
            "660\n"
          ],
          "name": "stdout"
        }
      ]
    },
    {
      "cell_type": "markdown",
      "metadata": {
        "id": "L3FVSkGNNbeD"
      },
      "source": [
        "## Creamos el Tokenizer"
      ]
    },
    {
      "cell_type": "markdown",
      "metadata": {
        "id": "zodihNvZfHnA"
      },
      "source": [
        "Le vamos a decir cuál es el número máximo de palabras, el token para palabras que no estén en el vocabulario y que las pase minúsculas para reducir el tamaño del mismo"
      ]
    },
    {
      "cell_type": "code",
      "metadata": {
        "colab": {
          "base_uri": "https://localhost:8080/"
        },
        "id": "KFotUWa4NeB-",
        "outputId": "49952be7-300e-46e7-c48c-4818bdad6b47"
      },
      "source": [
        "tokenizer = Tokenizer(num_words = vocab_size, oov_token=oov_tok, lower=True)\n",
        "tokenizer.fit_on_texts(train_articles)\n",
        "word_index = tokenizer.word_index\n",
        "dict(list(word_index.items())[0:10])"
      ],
      "execution_count": 14,
      "outputs": [
        {
          "output_type": "execute_result",
          "data": {
            "text/plain": [
              "{'<OOV>': 1,\n",
              " 'a': 8,\n",
              " 'de': 2,\n",
              " 'el': 6,\n",
              " 'en': 7,\n",
              " 'la': 4,\n",
              " 'no': 9,\n",
              " 'que': 3,\n",
              " 'se': 10,\n",
              " 'y': 5}"
            ]
          },
          "metadata": {
            "tags": []
          },
          "execution_count": 14
        }
      ]
    },
    {
      "cell_type": "markdown",
      "metadata": {
        "id": "q2IrSCgpfY7h"
      },
      "source": [
        "No hemos filtrado las `STOPWORDS` pero se podría."
      ]
    },
    {
      "cell_type": "markdown",
      "metadata": {
        "id": "J-euGB85fiyI"
      },
      "source": [
        "Tokenizamos nuestro dataset de entrenamiento una vez que ya tenemos nuestro vocabulario listo."
      ]
    },
    {
      "cell_type": "code",
      "metadata": {
        "colab": {
          "base_uri": "https://localhost:8080/"
        },
        "id": "BwEuNYqHNkNQ",
        "outputId": "0d484e49-d767-4c78-c32b-12dbb292d780"
      },
      "source": [
        "train_sequences = tokenizer.texts_to_sequences(train_articles)\n",
        "print(train_sequences[10])"
      ],
      "execution_count": 15,
      "outputs": [
        {
          "output_type": "stream",
          "text": [
            "[94, 1, 90, 1, 6, 1, 1, 62, 93, 5, 2008, 9, 1, 29, 286, 10, 245, 4484, 5, 10, 1, 95, 43, 4485, 554, 1, 8, 409, 1, 8, 4486, 7, 631, 1, 18, 174, 21, 257, 2, 603, 21, 3439, 5, 21, 3440, 69, 168, 21, 3440, 536, 10, 3441, 17, 9, 2384, 4487, 46, 1601, 8, 4, 4488, 34, 4489, 2, 1, 5, 2767, 3442, 2, 3, 65, 47, 283, 8, 13, 177, 20, 4490, 1, 1135, 4491, 3, 2035, 1136, 7, 2759, 40, 1, 17, 3443, 4492, 56, 1, 13, 535, 7, 4, 363, 868, 23, 3, 7, 16, 1, 1, 5, 1, 143, 34, 209, 4493, 70, 118, 119, 122, 272, 23, 93, 56, 10, 4, 473, 239, 135, 1, 1789, 67, 27, 6, 101, 10, 1, 54, 9, 2, 44, 30, 37, 836, 3, 9, 18, 1056, 1770, 173, 7, 4, 116, 5, 17, 257, 2, 555, 55, 8, 102, 3444, 9, 30, 1, 1, 500, 1464, 178, 2, 280, 26, 556, 41, 1137, 3, 7, 1, 5, 4494, 47, 375, 501, 171, 248, 677, 2, 1, 3442, 2, 3, 70, 118, 16, 47, 1, 44, 5, 119, 188, 3, 16, 1, 8, 4, 2036, 41, 13, 1, 674, 10, 1, 1, 8, 21, 24, 1, 2, 4495, 22, 1790, 35, 2, 97, 6, 2037, 1791, 141, 993, 47, 830, 20, 3445, 15, 2385, 5, 12, 1441, 7, 13, 251, 1792, 38, 1, 19, 1, 49, 100, 3, 678, 6, 212, 679, 17, 15, 1, 2, 3]\n"
          ],
          "name": "stdout"
        }
      ]
    },
    {
      "cell_type": "markdown",
      "metadata": {
        "id": "Q2J2jAD_ftOe"
      },
      "source": [
        "Aplicamos padding a nuestras secuencias de entrenamientoi para que todas tengan la misma longitud (para este dataset no es neceario porque las dividimos con la misma longitud, pero en otros casos suele ser útil)."
      ]
    },
    {
      "cell_type": "code",
      "metadata": {
        "colab": {
          "base_uri": "https://localhost:8080/"
        },
        "id": "u4UbbghkNlfg",
        "outputId": "d0ba35e4-edd3-4a51-c0ea-d3fdce2c8418"
      },
      "source": [
        "train_padded = pad_sequences(train_sequences, maxlen=max_length, padding=padding_type, truncating=trunc_type)\n",
        "print(len(train_sequences[0]))\n",
        "print(len(train_padded[0]))\n",
        "\n",
        "print(len(train_sequences[1]))\n",
        "print(len(train_padded[1]))\n",
        "\n",
        "print(len(train_sequences[10]))\n",
        "print(len(train_padded[10]))"
      ],
      "execution_count": 16,
      "outputs": [
        {
          "output_type": "stream",
          "text": [
            "250\n",
            "250\n",
            "250\n",
            "250\n",
            "253\n",
            "250\n"
          ],
          "name": "stdout"
        }
      ]
    },
    {
      "cell_type": "code",
      "metadata": {
        "colab": {
          "base_uri": "https://localhost:8080/"
        },
        "id": "UCRWM1asJX9A",
        "outputId": "7fc41501-6453-485d-852e-7d4f4675dbd2"
      },
      "source": [
        "print(train_padded[10])"
      ],
      "execution_count": 18,
      "outputs": [
        {
          "output_type": "stream",
          "text": [
            "[  94    1   90    1    6    1    1   62   93    5 2008    9    1   29\n",
            "  286   10  245 4484    5   10    1   95   43 4485  554    1    8  409\n",
            "    1    8 4486    7  631    1   18  174   21  257    2  603   21 3439\n",
            "    5   21 3440   69  168   21 3440  536   10 3441   17    9 2384 4487\n",
            "   46 1601    8    4 4488   34 4489    2    1    5 2767 3442    2    3\n",
            "   65   47  283    8   13  177   20 4490    1 1135 4491    3 2035 1136\n",
            "    7 2759   40    1   17 3443 4492   56    1   13  535    7    4  363\n",
            "  868   23    3    7   16    1    1    5    1  143   34  209 4493   70\n",
            "  118  119  122  272   23   93   56   10    4  473  239  135    1 1789\n",
            "   67   27    6  101   10    1   54    9    2   44   30   37  836    3\n",
            "    9   18 1056 1770  173    7    4  116    5   17  257    2  555   55\n",
            "    8  102 3444    9   30    1    1  500 1464  178    2  280   26  556\n",
            "   41 1137    3    7    1    5 4494   47  375  501  171  248  677    2\n",
            "    1 3442    2    3   70  118   16   47    1   44    5  119  188    3\n",
            "   16    1    8    4 2036   41   13    1  674   10    1    1    8   21\n",
            "   24    1    2 4495   22 1790   35    2   97    6 2037 1791  141  993\n",
            "   47  830   20 3445   15 2385    5   12 1441    7   13  251 1792   38\n",
            "    1   19    1   49  100    3  678    6  212  679   17   15]\n"
          ],
          "name": "stdout"
        }
      ]
    },
    {
      "cell_type": "markdown",
      "metadata": {
        "id": "Vu6WBDn3gBVn"
      },
      "source": [
        "Hacemos lo propio con el dataset de validación"
      ]
    },
    {
      "cell_type": "code",
      "metadata": {
        "colab": {
          "base_uri": "https://localhost:8080/"
        },
        "id": "fFXq3RsKzo5F",
        "outputId": "c7770877-0e0c-4f1d-ccc2-0464dc0c68d3"
      },
      "source": [
        "validation_sequences = tokenizer.texts_to_sequences(validation_articles)\n",
        "validation_padded = pad_sequences(validation_sequences, maxlen=max_length, padding=padding_type, truncating=trunc_type)\n",
        "\n",
        "print(len(validation_sequences))\n",
        "print(validation_padded.shape)"
      ],
      "execution_count": 19,
      "outputs": [
        {
          "output_type": "stream",
          "text": [
            "660\n",
            "(660, 250)\n"
          ],
          "name": "stdout"
        }
      ]
    },
    {
      "cell_type": "markdown",
      "metadata": {
        "id": "-TqvV2BVgGeh"
      },
      "source": [
        "Codificamos correctamente las `labels`"
      ]
    },
    {
      "cell_type": "code",
      "metadata": {
        "colab": {
          "base_uri": "https://localhost:8080/"
        },
        "id": "mH9DeFBf9pgb",
        "outputId": "44feda19-5f0e-41c6-b528-8a4d3ddbea02"
      },
      "source": [
        "training_label_seq = np.array(train_labels, dtype=np.int8)\n",
        "validation_label_seq = np.array(validation_labels, dtype=np.int8)\n",
        "print(training_label_seq[0])\n",
        "print(training_label_seq[1])\n",
        "print(training_label_seq[2])\n",
        "print(training_label_seq.shape)\n",
        "\n",
        "print(validation_label_seq[0])\n",
        "print(validation_label_seq[1])\n",
        "print(validation_label_seq[2])\n",
        "print(validation_label_seq.shape)"
      ],
      "execution_count": 20,
      "outputs": [
        {
          "output_type": "stream",
          "text": [
            "1\n",
            "0\n",
            "1\n",
            "(658,)\n",
            "1\n",
            "1\n",
            "1\n",
            "(660,)\n"
          ],
          "name": "stdout"
        }
      ]
    },
    {
      "cell_type": "markdown",
      "metadata": {
        "id": "xBYiRaVqgNgU"
      },
      "source": [
        "Veamos cómo somos capaces de decodificar una secuencia tokenizada a texto de nuevo gracias al tokenizer que creamos"
      ]
    },
    {
      "cell_type": "code",
      "metadata": {
        "colab": {
          "base_uri": "https://localhost:8080/"
        },
        "id": "TH1gdnnBdv68",
        "outputId": "122429ae-802b-4131-8bf7-fb9a9af7fd78"
      },
      "source": [
        "reverse_word_index = dict([(value, key) for (key, value) in word_index.items()])\n",
        "\n",
        "def decode_article(text):\n",
        "    return ' '.join([reverse_word_index.get(i, '?') for i in text])\n",
        "print(decode_article(train_padded[10]))\n",
        "print('---')\n",
        "print(train_articles[10])"
      ],
      "execution_count": 22,
      "outputs": [
        {
          "output_type": "stream",
          "text": [
            "está <OOV> aquí <OOV> el <OOV> <OOV> » fortunata y feliciana no <OOV> pero rubín se puso encarnado y se <OOV> mucho porque aplicar tales <OOV> a personas <OOV> a unirse en santo <OOV> le parecía una falta de respeto una grosería y una cochinada sí señor una cochinada mas se calló por no armar camorra ni quitar a la reunión sus tonos de <OOV> y formalidad acordose de que nada había dicho a su amigo del casorio <OOV> siendo evidente que olmedo habló en términos tan <OOV> por ignorancia determinó pues <OOV> su pensamiento en la primera ocasión para que en lo <OOV> <OOV> y <OOV> mejor sus palabras viii aquella noche fue también mala para fortunata pues se la pasó casi toda <OOV> discurriendo sobre si el otro se <OOV> o no de ella era muy particular que no le hubiese encontrado nunca en la calle y por falta de mirar bien a todos lados no era <OOV> <OOV> malo estaría fuera de madrid más adelante cuando supo que en <OOV> y marzo había estado juanito santa cruz enfermo de <OOV> acordose de que aquella noche lo había <OOV> ella y fue verdad que lo <OOV> a la madrugada cuando su <OOV> cerebro se <OOV> <OOV> a una como <OOV> de cavilaciones al despertar ya de día el reposo profundo aunque breve había vuelto del revés las imágenes y los pensamientos en su mente «a mi <OOV> me <OOV> dijo después que echó el padre nuestro por las\n",
            "---\n",
            "está reunido aquí toíto el _Demi-Monde_». Fortunata y Feliciana no comprendieron; pero Rubín se puso encarnado y se incomodó mucho; porque aplicar tales vocablos a personas dispuestas a unirse en santo vínculo le parecía una falta de respeto, una grosería y una cochinada, sí señor, una cochinada... Mas se calló por no armar camorra ni quitar a la reunión sus tonos de circunspección y formalidad. Acordose de que nada había dicho a su amigo del casorio proyectado, siendo evidente que Olmedo habló en términos tan _liberales_ por ignorancia. Determinó, pues, revelarle su pensamiento en la primera ocasión, para que en lo sucesivo midiera y pesara mejor sus palabras. --viii-- Aquella noche fue también mala para Fortunata, pues se la pasó casi toda cavilando, discurriendo sobre si _el otro_ se acordaría o no de ella. Era muy particular que no le hubiese encontrado nunca en la calle. Y por falta de mirar bien a todos lados no era ciertamente. ¿Estaría malo, estaría fuera de Madrid? Más adelante, cuando supo que en Febrero y Marzo había estado Juanito Santa Cruz enfermo de pulmonía, acordose de que aquella noche lo había soñado ella. Y fue verdad que lo soñó a la madrugada, cuando su caldeado cerebro se adormeció, cediendo a una como borrachera de cavilaciones. Al despertar ya de día, el reposo profundo aunque breve había vuelto del revés las imágenes y los pensamientos en su mente. «A mi boticarito me atengo--dijo después que echó el Padre Nuestro por las ánimas, de que\n"
          ],
          "name": "stdout"
        }
      ]
    },
    {
      "cell_type": "markdown",
      "metadata": {
        "id": "jpJJ9568OOof"
      },
      "source": [
        "## Construimos nuestra red neuronal"
      ]
    },
    {
      "cell_type": "markdown",
      "metadata": {
        "id": "8JIZ8L8igcS4"
      },
      "source": [
        "- Utilizaremos la `Sequential` API de Keras\n",
        "- Creamos una primera capa de `Embedding`que tiene por tamaño `vocab_size`x `embedding_dim`\n",
        "- Despues añadimos nuestra capa de recurrencia. En este caso será una `LSTM` bidireccional (aprende de izquerida a derecha y de derecha a izquierda)\n",
        "- Conectamos la salida de esa capa a una capa `Dense`.\n",
        "- Por último, conectamos todo a una capa `Dense`con función de activación `sigmoid`ya que nuestro problema de clasificación es binario."
      ]
    },
    {
      "cell_type": "code",
      "metadata": {
        "id": "-u21q7CPdyxj",
        "colab": {
          "base_uri": "https://localhost:8080/"
        },
        "outputId": "d45cda88-5ddd-47f2-960d-aa51bc0f3bdf"
      },
      "source": [
        "model = tf.keras.Sequential([\n",
        "    tf.keras.layers.Embedding(vocab_size, embedding_dim),\n",
        "    tf.keras.layers.Bidirectional(tf.keras.layers.LSTM(embedding_dim)),\n",
        "    tf.keras.layers.Dense(embedding_dim, activation='relu'),\n",
        "    tf.keras.layers.Dense(1, activation='sigmoid')\n",
        "])\n",
        "model.summary()"
      ],
      "execution_count": 23,
      "outputs": [
        {
          "output_type": "stream",
          "text": [
            "Model: \"sequential\"\n",
            "_________________________________________________________________\n",
            "Layer (type)                 Output Shape              Param #   \n",
            "=================================================================\n",
            "embedding (Embedding)        (None, None, 64)          320000    \n",
            "_________________________________________________________________\n",
            "bidirectional (Bidirectional (None, 128)               66048     \n",
            "_________________________________________________________________\n",
            "dense (Dense)                (None, 64)                8256      \n",
            "_________________________________________________________________\n",
            "dense_1 (Dense)              (None, 1)                 65        \n",
            "=================================================================\n",
            "Total params: 394,369\n",
            "Trainable params: 394,369\n",
            "Non-trainable params: 0\n",
            "_________________________________________________________________\n"
          ],
          "name": "stdout"
        }
      ]
    },
    {
      "cell_type": "code",
      "metadata": {
        "id": "tRC4gdpTOdJ2"
      },
      "source": [
        "model.compile(loss='binary_crossentropy', optimizer='adam', metrics=['accuracy'])"
      ],
      "execution_count": 24,
      "outputs": []
    },
    {
      "cell_type": "markdown",
      "metadata": {
        "id": "wku8-NcvOiEl"
      },
      "source": [
        "## Entrenamos nuestro modelo"
      ]
    },
    {
      "cell_type": "code",
      "metadata": {
        "colab": {
          "base_uri": "https://localhost:8080/"
        },
        "id": "CCq0VEY3Of51",
        "outputId": "99fe43ad-bca4-4353-8718-52d6a3cc56dc"
      },
      "source": [
        "num_epochs = 4\n",
        "history = model.fit(train_padded, training_label_seq, epochs=num_epochs, validation_data=(validation_padded, validation_label_seq), verbose=2)"
      ],
      "execution_count": 25,
      "outputs": [
        {
          "output_type": "stream",
          "text": [
            "Epoch 1/4\n",
            "21/21 - 12s - loss: 0.6326 - accuracy: 0.7264 - val_loss: 0.5768 - val_accuracy: 0.7364\n",
            "Epoch 2/4\n",
            "21/21 - 7s - loss: 0.5470 - accuracy: 0.7371 - val_loss: 0.5319 - val_accuracy: 0.7364\n",
            "Epoch 3/4\n",
            "21/21 - 7s - loss: 0.3793 - accuracy: 0.8116 - val_loss: 0.4210 - val_accuracy: 0.7106\n",
            "Epoch 4/4\n",
            "21/21 - 7s - loss: 0.1849 - accuracy: 0.9453 - val_loss: 0.3543 - val_accuracy: 0.8803\n"
          ],
          "name": "stdout"
        }
      ]
    },
    {
      "cell_type": "markdown",
      "metadata": {
        "id": "juWKrCZROpaN"
      },
      "source": [
        "## Visualizamos los resultados"
      ]
    },
    {
      "cell_type": "code",
      "metadata": {
        "colab": {
          "base_uri": "https://localhost:8080/",
          "height": 541
        },
        "id": "tQ2VSuHpd18X",
        "outputId": "98107303-97a8-47d4-895b-04063034071e"
      },
      "source": [
        "def plot_graphs(history, string):\n",
        "  plt.plot(history.history[string])\n",
        "  plt.plot(history.history['val_'+string])\n",
        "  plt.xlabel(\"Epochs\")\n",
        "  plt.ylabel(string)\n",
        "  plt.legend([string, 'val_'+string])\n",
        "  plt.show()\n",
        "  \n",
        "plot_graphs(history, \"accuracy\")\n",
        "plot_graphs(history, \"loss\")"
      ],
      "execution_count": 26,
      "outputs": [
        {
          "output_type": "display_data",
          "data": {
            "image/png": "[encoded data removed]",
            "text/plain": [
              "<Figure size 432x288 with 1 Axes>"
            ]
          },
          "metadata": {
            "tags": [],
            "needs_background": "light"
          }
        },
        {
          "output_type": "display_data",
          "data": {
            "image/png": "[encoded data removed]",
            "text/plain": [
              "<Figure size 432x288 with 1 Axes>"
            ]
          },
          "metadata": {
            "tags": [],
            "needs_background": "light"
          }
        }
      ]
    },
    {
      "cell_type": "markdown",
      "metadata": {
        "id": "mbWlCoZrO3FG"
      },
      "source": [
        "## Probemos nuestro modelo"
      ]
    },
    {
      "cell_type": "code",
      "metadata": {
        "colab": {
          "base_uri": "https://localhost:8080/"
        },
        "id": "E8m7ukwrZjRs",
        "outputId": "c2cf9dec-1df7-42bf-9783-cfa25d0e5898"
      },
      "source": [
        "validation_articles[50], validation_label_seq[50]"
      ],
      "execution_count": 41,
      "outputs": [
        {
          "output_type": "execute_result",
          "data": {
            "text/plain": [
              "('y soldaduchos... Debiera trabar conversación, al menos para dar tiempo á que desfile Mendizábal... ¡Dios mío, líbrame de esa fiera ultramontana y facciosa!... Nada, que me gustan las niñas; sobre todo aquella que tiene el moño alto y el mantón colorado... También ella me mira, y... Ojo, Ramón, que estas aventuras son peligrosas. Modérate, y para hacer más tiempo, toma una copita más. Paisano, otra...» La partida salió, y Villaamil, calculando con rápida inspiración, se dijo: «Me meto entre ellos, y si aún está el esperpento ahí, me escabullo mezclado con estos galanes y estas señoras». Así lo hizo, y salió confundido con las mozas, que á él le parecían de ley, y con los militares. Mendizábal no estaba en la calle ya; pero don Ramón no las tenía todas consigo y siguió tras la patulea, pegado á ella lo más posible, reflexionando: «En último caso, si el orangután ese me ataca, es fácil que estos bravos militares salgan á defenderme... Vas bien, Ramón, no temas... La sacrosanta libertad, hija del Cielo, no te la quita ya nadie». Al llegar cerca de las Capuchinas, vió que la alegre banda desaparecía por la calle de Juan de Dios. Oyó carcajadas de las desenvueltas muchachas, y juramentos y voquibles de los hombres. Mirando con tristeza y envidia el grupo: «¡Oh dichosa edad de la despreocupación y del _qué se me da á mí_! Dios os la prolongue. Haced todos los disparates que se os ocurran, jóvenes, y pecad todo lo que podáis,',\n",
              " 1)"
            ]
          },
          "metadata": {
            "tags": []
          },
          "execution_count": 41
        }
      ]
    },
    {
      "cell_type": "code",
      "metadata": {
        "id": "W2Iip3Acd49N",
        "colab": {
          "base_uri": "https://localhost:8080/"
        },
        "outputId": "9fa54531-a91e-41d3-9117-a072739efa62"
      },
      "source": [
        "txt = ['''\n",
        "Ayer, como quien dice, el año Tal de la Era Cristiana, correspondiente al Cuál, o si se quiere, al tres mil y pico de la cronología egipcia, sucedió lo que voy a referir, historia familiar que nos transmite un papirus redactado en lindísimos monigotes. Es la tal historia o sucedido de notoria insignificancia, si el lector no sabe pasar de las exterioridades del texto gráfico; pero restregándose en éste los ojos por espacio de un par de siglos, no es difícil descubrir el meollo que contiene.\n",
        "''']\n",
        "seq = tokenizer.texts_to_sequences(txt)\n",
        "padded = pad_sequences(seq, maxlen=max_length)\n",
        "pred = model.predict(padded)\n",
        "print(pred)\n",
        "print(\"Parece una secuencia de una novela de Galdós\" if pred[0] > 0.5 else \"Parece que esta novela pertenece a Emilia Pardo Bazán\")"
      ],
      "execution_count": 44,
      "outputs": [
        {
          "output_type": "stream",
          "text": [
            "[[0.0683814]]\n",
            "Parece que esta novela pertenece a Emilia Pardo Bazán\n"
          ],
          "name": "stdout"
        }
      ]
    },
    {
      "cell_type": "code",
      "metadata": {
        "id": "XeXJ1o80O9Yw"
      },
      "source": [
        ""
      ],
      "execution_count": null,
      "outputs": []
    }
  ]
}